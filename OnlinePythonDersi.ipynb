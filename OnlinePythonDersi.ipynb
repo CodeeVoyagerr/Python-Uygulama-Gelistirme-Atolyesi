{
  "nbformat": 4,
  "nbformat_minor": 0,
  "metadata": {
    "colab": {
      "provenance": []
    },
    "kernelspec": {
      "name": "python3",
      "display_name": "Python 3"
    },
    "language_info": {
      "name": "python"
    }
  },
  "cells": [
    {
      "cell_type": "code",
      "source": [
        "# Python Eğitimi"
      ],
      "metadata": {
        "id": "N3IUqXnu-tZK"
      },
      "execution_count": 43,
      "outputs": []
    },
    {
      "cell_type": "code",
      "execution_count": 44,
      "metadata": {
        "colab": {
          "base_uri": "https://localhost:8080/"
        },
        "id": "XwdWhXmC7Zi-",
        "outputId": "f8c3781c-4f2a-4853-ada1-74c393727148"
      },
      "outputs": [
        {
          "output_type": "stream",
          "name": "stdout",
          "text": [
            "Melike\n"
          ]
        }
      ],
      "source": [
        "print(\"Melike\")"
      ]
    },
    {
      "cell_type": "code",
      "source": [
        "print(\"Dönmez\")"
      ],
      "metadata": {
        "colab": {
          "base_uri": "https://localhost:8080/"
        },
        "id": "carNsOeA9MG2",
        "outputId": "58f8b285-9505-4b9c-cc25-00ab38115e7a"
      },
      "execution_count": 45,
      "outputs": [
        {
          "output_type": "stream",
          "name": "stdout",
          "text": [
            "Dönmez\n"
          ]
        }
      ]
    },
    {
      "cell_type": "code",
      "source": [
        "print(\"Melike Dönmez\")"
      ],
      "metadata": {
        "colab": {
          "base_uri": "https://localhost:8080/"
        },
        "id": "LCzbvy-Z9SGO",
        "outputId": "395ff3c2-4b90-4dbf-aa60-1d2c87a624af"
      },
      "execution_count": 46,
      "outputs": [
        {
          "output_type": "stream",
          "name": "stdout",
          "text": [
            "Melike Dönmez\n"
          ]
        }
      ]
    },
    {
      "cell_type": "markdown",
      "source": [
        "Python büyük küçük harf ayrımı yapan bir dildir."
      ],
      "metadata": {
        "id": "GK0sqtrg_Wce"
      }
    },
    {
      "cell_type": "markdown",
      "source": [
        "Değişkenler : Verileri kısa süreliğine depolar. RAM'de kısa süreliğine depolama yapar."
      ],
      "metadata": {
        "id": "jsKU_dxp_q2S"
      }
    },
    {
      "cell_type": "markdown",
      "source": [
        "Atama işlemi = sembolü ile yapılır."
      ],
      "metadata": {
        "id": "xfjFYlJCCYYi"
      }
    },
    {
      "cell_type": "code",
      "source": [
        "adSoyad = \"Melike Dönmez\" # String (Tırnak içerisinde klavyeden basabildiğimiz her şey string dir.)\n",
        "dogumYili = 2002          # Integer\n",
        "dogruMu = True            # Boolean (True 1 - False 0)\n",
        "kdvTutar = 90.49          # Float"
      ],
      "metadata": {
        "id": "RdgzP-cN_JPD"
      },
      "execution_count": 47,
      "outputs": []
    },
    {
      "cell_type": "code",
      "source": [
        "sayi1 = sayi2 = sayi3 = 99"
      ],
      "metadata": {
        "id": "im0QNBqB_JRn"
      },
      "execution_count": 48,
      "outputs": []
    },
    {
      "cell_type": "code",
      "source": [
        "print(kdvTutar)"
      ],
      "metadata": {
        "colab": {
          "base_uri": "https://localhost:8080/"
        },
        "id": "itvVnxga_JUh",
        "outputId": "818b0bdb-8128-434d-90bb-87a6e8db7890"
      },
      "execution_count": 49,
      "outputs": [
        {
          "output_type": "stream",
          "name": "stdout",
          "text": [
            "90.49\n"
          ]
        }
      ]
    },
    {
      "cell_type": "markdown",
      "source": [
        "İyi bir yazılımcı iyi bir hafıza yönetimi yapmalı. O yüzden mümkün olduğunca az değişken kullanmalıyız."
      ],
      "metadata": {
        "id": "rD9b85mcDleM"
      }
    },
    {
      "cell_type": "code",
      "source": [
        "print(type(adSoyad))\n",
        "print(type(dogumYili))\n",
        "print(type(kdvTutar))\n",
        "print(type(dogruMu))"
      ],
      "metadata": {
        "colab": {
          "base_uri": "https://localhost:8080/"
        },
        "id": "MFg41Sj8_JXn",
        "outputId": "8431bd26-95d4-4f55-a8d9-ac26d42e9d1b"
      },
      "execution_count": 50,
      "outputs": [
        {
          "output_type": "stream",
          "name": "stdout",
          "text": [
            "<class 'str'>\n",
            "<class 'int'>\n",
            "<class 'float'>\n",
            "<class 'bool'>\n"
          ]
        }
      ]
    },
    {
      "cell_type": "code",
      "source": [
        "print(type(dogumYili))\n",
        "print(type(str(dogumYili)))"
      ],
      "metadata": {
        "colab": {
          "base_uri": "https://localhost:8080/"
        },
        "id": "u947WtrS_JbO",
        "outputId": "acc2bc3d-9e41-42d6-e641-ccf0f9dc9123"
      },
      "execution_count": 51,
      "outputs": [
        {
          "output_type": "stream",
          "name": "stdout",
          "text": [
            "<class 'int'>\n",
            "<class 'str'>\n"
          ]
        }
      ]
    },
    {
      "cell_type": "code",
      "source": [
        "str = \"100\"\n",
        "print(type(str))\n",
        "print(type(int(str)))"
      ],
      "metadata": {
        "colab": {
          "base_uri": "https://localhost:8080/"
        },
        "id": "TEy8hsYk_Jes",
        "outputId": "c5f3ee37-9981-4965-9231-a9f5d5dcdf29"
      },
      "execution_count": 52,
      "outputs": [
        {
          "output_type": "stream",
          "name": "stdout",
          "text": [
            "<class 'str'>\n",
            "<class 'int'>\n"
          ]
        }
      ]
    },
    {
      "cell_type": "code",
      "source": [
        "print(\"Melike\\nDönmez\")"
      ],
      "metadata": {
        "colab": {
          "base_uri": "https://localhost:8080/"
        },
        "id": "75dsmFj0_Jg9",
        "outputId": "1dd07c40-df75-4436-a580-b788c07181a8"
      },
      "execution_count": 53,
      "outputs": [
        {
          "output_type": "stream",
          "name": "stdout",
          "text": [
            "Melike\n",
            "Dönmez\n"
          ]
        }
      ]
    },
    {
      "cell_type": "code",
      "source": [
        "print(\"Melike\" , \"Dönmez\", sep = \"/\")"
      ],
      "metadata": {
        "colab": {
          "base_uri": "https://localhost:8080/"
        },
        "id": "_FT0-mdB_JjM",
        "outputId": "aa5ccbb5-3b36-4fa1-e370-b7ad7a50e78f"
      },
      "execution_count": 54,
      "outputs": [
        {
          "output_type": "stream",
          "name": "stdout",
          "text": [
            "Melike/Dönmez\n"
          ]
        }
      ]
    },
    {
      "cell_type": "code",
      "source": [
        "print(5*10)"
      ],
      "metadata": {
        "colab": {
          "base_uri": "https://localhost:8080/"
        },
        "id": "h_xu8vOL_Jla",
        "outputId": "f311c912-cbf5-4366-f59b-afcaf6aa6e91"
      },
      "execution_count": 55,
      "outputs": [
        {
          "output_type": "stream",
          "name": "stdout",
          "text": [
            "50\n"
          ]
        }
      ]
    },
    {
      "cell_type": "code",
      "source": [
        "print(\"{} * {} = {}\".format(5,4,5*4))"
      ],
      "metadata": {
        "colab": {
          "base_uri": "https://localhost:8080/"
        },
        "id": "OPSeKBct_JnR",
        "outputId": "6044e614-0979-4fb6-87c4-70f6eaa76c37"
      },
      "execution_count": 56,
      "outputs": [
        {
          "output_type": "stream",
          "name": "stdout",
          "text": [
            "5 * 4 = 20\n"
          ]
        }
      ]
    },
    {
      "cell_type": "markdown",
      "source": [
        "Operatörler :\n",
        "\n",
        ", - , + , * , / , % , // , **\n",
        "\n",
        "+= , -= , *= , /= , **=\n",
        "\n",
        ", > , < , >= , <= , == , !=\n",
        "\n",
        "and or not"
      ],
      "metadata": {
        "id": "JiltiSJ-J_0v"
      }
    },
    {
      "cell_type": "code",
      "source": [
        "print(10 + 5)\n",
        "print(10 - 5)\n",
        "print(10 * 5)\n",
        "print(10 / 5)\n",
        "print(10 // 5)\n",
        "print(10 % 5)\n",
        "print(10 ** 5)"
      ],
      "metadata": {
        "colab": {
          "base_uri": "https://localhost:8080/"
        },
        "id": "QlH3utwm_Jpp",
        "outputId": "1c339b08-b6de-4296-9542-e8f8d688a335"
      },
      "execution_count": 57,
      "outputs": [
        {
          "output_type": "stream",
          "name": "stdout",
          "text": [
            "15\n",
            "5\n",
            "50\n",
            "2.0\n",
            "2\n",
            "0\n",
            "100000\n"
          ]
        }
      ]
    },
    {
      "cell_type": "code",
      "source": [
        "print(\"Adı Soyadı : \", adSoyad)  # ( , Birleştirme operatörüdür. )"
      ],
      "metadata": {
        "colab": {
          "base_uri": "https://localhost:8080/"
        },
        "id": "lwnpobY4_JtA",
        "outputId": "2389ff60-ec69-4e22-8da6-a5e0d980b54a"
      },
      "execution_count": 58,
      "outputs": [
        {
          "output_type": "stream",
          "name": "stdout",
          "text": [
            "Adı Soyadı :  Melike Dönmez\n"
          ]
        }
      ]
    },
    {
      "cell_type": "code",
      "source": [
        "print(dogumYili)\n",
        "dogumYili += 12\n",
        "print(dogumYili)"
      ],
      "metadata": {
        "colab": {
          "base_uri": "https://localhost:8080/"
        },
        "id": "sJBLTLY2LGwh",
        "outputId": "0df754bb-527f-4143-c716-2d77dc9ef59f"
      },
      "execution_count": 59,
      "outputs": [
        {
          "output_type": "stream",
          "name": "stdout",
          "text": [
            "2002\n",
            "2014\n"
          ]
        }
      ]
    },
    {
      "cell_type": "code",
      "source": [
        "sonuc = 10 < 5\n",
        "print(sonuc)"
      ],
      "metadata": {
        "colab": {
          "base_uri": "https://localhost:8080/"
        },
        "id": "1ALW51lRLG9g",
        "outputId": "0b164487-0235-4d0f-f752-2464bdffbee9"
      },
      "execution_count": 60,
      "outputs": [
        {
          "output_type": "stream",
          "name": "stdout",
          "text": [
            "False\n"
          ]
        }
      ]
    },
    {
      "cell_type": "code",
      "source": [
        "sayi1 = int(input(\"1. Sayı : \"))\n",
        "sayi2 = int(input(\"2. Sayı : \"))\n",
        "sayi3 = int(input(\"3. Sayı : \"))\n",
        "\n",
        "if (sayi1 >= sayi2 and sayi1 >= sayi3):\n",
        "  print(\"En Büyük Sayı : \", sayi1)\n",
        "elif (sayi2 >= sayi1 and sayi2 >= sayi3):\n",
        "  print(\"En Büyük Sayı : \", sayi2)\n",
        "else:\n",
        "  print(\"En Büyük Sayı : \", sayi3)\n"
      ],
      "metadata": {
        "colab": {
          "base_uri": "https://localhost:8080/"
        },
        "id": "KzEw_YipLHB9",
        "outputId": "5ee567d3-e337-4c8c-b7bb-680c7bc9cdca"
      },
      "execution_count": 62,
      "outputs": [
        {
          "output_type": "stream",
          "name": "stdout",
          "text": [
            "1. Sayı : 10\n",
            "2. Sayı : 20\n",
            "3. Sayı : 30\n",
            "En Büyük Sayı :  30\n"
          ]
        }
      ]
    },
    {
      "cell_type": "code",
      "source": [
        "sayi = int(input(\"Bir sayı yaz : \"))\n",
        "if (sayi % 2 == 0):\n",
        "  print(\"Sayı çifttir.\")\n",
        "else :\n",
        "  print(\"Sayı tektir.\")"
      ],
      "metadata": {
        "colab": {
          "base_uri": "https://localhost:8080/"
        },
        "id": "y5J_-aBwLHEE",
        "outputId": "2b346de3-fccc-450f-9082-9b013288e46b"
      },
      "execution_count": 63,
      "outputs": [
        {
          "output_type": "stream",
          "name": "stdout",
          "text": [
            "Bir sayı yaz : 18\n",
            "Sayı çifttir.\n"
          ]
        }
      ]
    },
    {
      "cell_type": "code",
      "source": [
        "username = input(\"Kullanıcı Adı: \")\n",
        "password = input(\"Parola: \")\n",
        "\n",
        "if(username == \"admin\" and password== \"1234\"):\n",
        "  print(\"Giriş Yapıldı.\")\n",
        "else:\n",
        "  print(\"Hatalı Bilgi.\")"
      ],
      "metadata": {
        "colab": {
          "base_uri": "https://localhost:8080/"
        },
        "id": "jedW4EkNLHGj",
        "outputId": "301671a0-c91c-4f49-ba16-e80f2354900b"
      },
      "execution_count": 65,
      "outputs": [
        {
          "output_type": "stream",
          "name": "stdout",
          "text": [
            "Kullanıcı Adı: admin\n",
            "Parola: 1234\n",
            "Giriş Yapıldı.\n"
          ]
        }
      ]
    },
    {
      "cell_type": "code",
      "source": [
        "username = input(\"Kullanıcı Adı: \")\n",
        "password = input(\"Parola: \")\n",
        "\n",
        "if(username == \"admin\"):\n",
        "  if(password == \"1234\"):\n",
        "    print(\"Giriş Yapıldı.\")\n",
        "  else :\n",
        "    print(\"Hatalı Şifre.\")\n",
        "\n",
        "else :\n",
        "  print(\"Hatalı Kullanıcı Adı\")"
      ],
      "metadata": {
        "colab": {
          "base_uri": "https://localhost:8080/"
        },
        "id": "CEQU1lwMLHIv",
        "outputId": "957209ab-e9ad-46f4-9d2a-9133ed62e687"
      },
      "execution_count": 66,
      "outputs": [
        {
          "output_type": "stream",
          "name": "stdout",
          "text": [
            "Kullanıcı Adı: Melike\n",
            "Parola: 1234\n",
            "Hatalı Kullanıcı Adı\n"
          ]
        }
      ]
    },
    {
      "cell_type": "code",
      "source": [
        "i=1\n",
        "while i<=10 :\n",
        "  print(i)\n",
        "  i+=1"
      ],
      "metadata": {
        "colab": {
          "base_uri": "https://localhost:8080/"
        },
        "id": "Yxub1uqyLHK9",
        "outputId": "246112cb-3154-44af-d941-7c69923ed079"
      },
      "execution_count": 67,
      "outputs": [
        {
          "output_type": "stream",
          "name": "stdout",
          "text": [
            "1\n",
            "2\n",
            "3\n",
            "4\n",
            "5\n",
            "6\n",
            "7\n",
            "8\n",
            "9\n",
            "10\n"
          ]
        }
      ]
    },
    {
      "cell_type": "code",
      "source": [
        "sayi = int(input(\"Kaç Defa ? \"))\n",
        "yazi = input(\"Ne Yazılsın ? \")\n",
        "\n",
        "i = 1\n",
        "while i <= sayi :\n",
        "  print(i, \" - \" , yazi)\n",
        "  i+=1"
      ],
      "metadata": {
        "colab": {
          "base_uri": "https://localhost:8080/"
        },
        "id": "qzx2qL9yLHNJ",
        "outputId": "0237eef0-5aa9-4104-b7bf-d5ec64f1a04e"
      },
      "execution_count": 69,
      "outputs": [
        {
          "output_type": "stream",
          "name": "stdout",
          "text": [
            "Kaç Defa ? 9\n",
            "Ne Yazılsın ? Hello World\n",
            "1  -  Hello World\n",
            "2  -  Hello World\n",
            "3  -  Hello World\n",
            "4  -  Hello World\n",
            "5  -  Hello World\n",
            "6  -  Hello World\n",
            "7  -  Hello World\n",
            "8  -  Hello World\n",
            "9  -  Hello World\n"
          ]
        }
      ]
    },
    {
      "cell_type": "code",
      "source": [
        "i = 1\n",
        "toplam = 0\n",
        "while i<=100:\n",
        "  toplam = toplam + i\n",
        "  i +=1\n",
        "\n",
        "print(\"Sonuç : \",toplam)\n"
      ],
      "metadata": {
        "colab": {
          "base_uri": "https://localhost:8080/"
        },
        "id": "LYvUCQ37LHPe",
        "outputId": "531baed1-8da6-425d-bb61-69ea2bf9b269"
      },
      "execution_count": 70,
      "outputs": [
        {
          "output_type": "stream",
          "name": "stdout",
          "text": [
            "Sonuç :  5050\n"
          ]
        }
      ]
    },
    {
      "cell_type": "code",
      "source": [
        "i = 1\n",
        "toplam = 0\n",
        "while i<=100:\n",
        "  if(i % 2 == 0):\n",
        "   toplam = toplam + i\n",
        "  i +=1\n",
        "\n",
        "print(\"Sonuç : \",toplam)\n"
      ],
      "metadata": {
        "colab": {
          "base_uri": "https://localhost:8080/"
        },
        "id": "21WOXWDyLHR8",
        "outputId": "aad45f15-7417-4917-8852-e478191cde60"
      },
      "execution_count": 71,
      "outputs": [
        {
          "output_type": "stream",
          "name": "stdout",
          "text": [
            "Sonuç :  2550\n"
          ]
        }
      ]
    },
    {
      "cell_type": "code",
      "source": [
        "sayi = int(input(\"Sayıyı Yazınız : \"))\n",
        "\n",
        "i = 2\n",
        "sonuc = 0\n",
        "\n",
        "while i < sayi:\n",
        "    if sayi % i == 0:\n",
        "        sonuc +=1\n",
        "    i += 1\n",
        "\n",
        "if sonuc == 0 and sayi > 1:\n",
        "  print(\"Sayı asaldır.\")\n",
        "else :\n",
        "  print(\"Sayı asal değildir.\")"
      ],
      "metadata": {
        "colab": {
          "base_uri": "https://localhost:8080/"
        },
        "id": "Maf-U69RLHT-",
        "outputId": "863d6f75-f701-494b-d998-30724b766397"
      },
      "execution_count": 72,
      "outputs": [
        {
          "output_type": "stream",
          "name": "stdout",
          "text": [
            "Sayıyı Yazınız : 101\n",
            "Sayı asaldır.\n"
          ]
        }
      ]
    },
    {
      "cell_type": "code",
      "source": [
        "i = 1\n",
        "while i<=10 :\n",
        "  j=1\n",
        "  while j<= 10:\n",
        "    print(i, \"x\" , j , \"=\" , i*j)\n",
        "    j+=1\n",
        "  if(i != 10):\n",
        "   print(\"-------------\")\n",
        "  i+=1\n"
      ],
      "metadata": {
        "colab": {
          "base_uri": "https://localhost:8080/"
        },
        "id": "cKN-QootLHWG",
        "outputId": "21ef9bc6-0216-459f-c972-981230d86a23"
      },
      "execution_count": 73,
      "outputs": [
        {
          "output_type": "stream",
          "name": "stdout",
          "text": [
            "1 x 1 = 1\n",
            "1 x 2 = 2\n",
            "1 x 3 = 3\n",
            "1 x 4 = 4\n",
            "1 x 5 = 5\n",
            "1 x 6 = 6\n",
            "1 x 7 = 7\n",
            "1 x 8 = 8\n",
            "1 x 9 = 9\n",
            "1 x 10 = 10\n",
            "-------------\n",
            "2 x 1 = 2\n",
            "2 x 2 = 4\n",
            "2 x 3 = 6\n",
            "2 x 4 = 8\n",
            "2 x 5 = 10\n",
            "2 x 6 = 12\n",
            "2 x 7 = 14\n",
            "2 x 8 = 16\n",
            "2 x 9 = 18\n",
            "2 x 10 = 20\n",
            "-------------\n",
            "3 x 1 = 3\n",
            "3 x 2 = 6\n",
            "3 x 3 = 9\n",
            "3 x 4 = 12\n",
            "3 x 5 = 15\n",
            "3 x 6 = 18\n",
            "3 x 7 = 21\n",
            "3 x 8 = 24\n",
            "3 x 9 = 27\n",
            "3 x 10 = 30\n",
            "-------------\n",
            "4 x 1 = 4\n",
            "4 x 2 = 8\n",
            "4 x 3 = 12\n",
            "4 x 4 = 16\n",
            "4 x 5 = 20\n",
            "4 x 6 = 24\n",
            "4 x 7 = 28\n",
            "4 x 8 = 32\n",
            "4 x 9 = 36\n",
            "4 x 10 = 40\n",
            "-------------\n",
            "5 x 1 = 5\n",
            "5 x 2 = 10\n",
            "5 x 3 = 15\n",
            "5 x 4 = 20\n",
            "5 x 5 = 25\n",
            "5 x 6 = 30\n",
            "5 x 7 = 35\n",
            "5 x 8 = 40\n",
            "5 x 9 = 45\n",
            "5 x 10 = 50\n",
            "-------------\n",
            "6 x 1 = 6\n",
            "6 x 2 = 12\n",
            "6 x 3 = 18\n",
            "6 x 4 = 24\n",
            "6 x 5 = 30\n",
            "6 x 6 = 36\n",
            "6 x 7 = 42\n",
            "6 x 8 = 48\n",
            "6 x 9 = 54\n",
            "6 x 10 = 60\n",
            "-------------\n",
            "7 x 1 = 7\n",
            "7 x 2 = 14\n",
            "7 x 3 = 21\n",
            "7 x 4 = 28\n",
            "7 x 5 = 35\n",
            "7 x 6 = 42\n",
            "7 x 7 = 49\n",
            "7 x 8 = 56\n",
            "7 x 9 = 63\n",
            "7 x 10 = 70\n",
            "-------------\n",
            "8 x 1 = 8\n",
            "8 x 2 = 16\n",
            "8 x 3 = 24\n",
            "8 x 4 = 32\n",
            "8 x 5 = 40\n",
            "8 x 6 = 48\n",
            "8 x 7 = 56\n",
            "8 x 8 = 64\n",
            "8 x 9 = 72\n",
            "8 x 10 = 80\n",
            "-------------\n",
            "9 x 1 = 9\n",
            "9 x 2 = 18\n",
            "9 x 3 = 27\n",
            "9 x 4 = 36\n",
            "9 x 5 = 45\n",
            "9 x 6 = 54\n",
            "9 x 7 = 63\n",
            "9 x 8 = 72\n",
            "9 x 9 = 81\n",
            "9 x 10 = 90\n",
            "-------------\n",
            "10 x 1 = 10\n",
            "10 x 2 = 20\n",
            "10 x 3 = 30\n",
            "10 x 4 = 40\n",
            "10 x 5 = 50\n",
            "10 x 6 = 60\n",
            "10 x 7 = 70\n",
            "10 x 8 = 80\n",
            "10 x 9 = 90\n",
            "10 x 10 = 100\n"
          ]
        }
      ]
    },
    {
      "cell_type": "code",
      "source": [
        "dogum_yili = int(input(\"Doğum yılı: \"))\n",
        "yas = 2024 - dogum_yili\n",
        "sigara = input(\"Sigara içiyor mu (Evet/Hayır): \").lower() == \"evet\"\n",
        "kalp = input(\"Ailede kalp hastalığı var mı (Evet/Hayır): \").lower() == \"evet\"\n",
        "alkol = input(\"Alkol kullanıyor mu (Evet/Hayır): \").lower() == \"evet\"\n",
        "oran = \"\"\n",
        "\n",
        "if sigara:\n",
        "    if yas > 40:\n",
        "        if alkol:\n",
        "            oran = \"%90\"\n",
        "        else:\n",
        "            oran = \"%60\"\n",
        "    else:\n",
        "        oran = \"%30\"\n",
        "else:\n",
        "    if kalp:\n",
        "        oran = \"%70\"\n",
        "    else:\n",
        "        if alkol:\n",
        "            oran = \"%20\"\n",
        "        else:\n",
        "            oran = \"%1\"\n",
        "\n",
        "print(\"Kalp Krizi Riski: \", oran)"
      ],
      "metadata": {
        "colab": {
          "base_uri": "https://localhost:8080/"
        },
        "id": "UFXTazlhLHZQ",
        "outputId": "edf62f8f-ecce-47ef-eadf-be179593ca5e"
      },
      "execution_count": 74,
      "outputs": [
        {
          "output_type": "stream",
          "name": "stdout",
          "text": [
            "Doğum yılı: 2000\n",
            "Sigara içiyor mu (Evet/Hayır): hayır\n",
            "Ailede kalp hastalığı var mı (Evet/Hayır): hayır\n",
            "Alkol kullanıyor mu (Evet/Hayır): hayır\n",
            "Kalp Krizi Riski:  %1\n"
          ]
        }
      ]
    }
  ]
}